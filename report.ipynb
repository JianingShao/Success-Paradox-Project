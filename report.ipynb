{
 "cells": [
  {
   "cell_type": "markdown",
   "id": "71b2d79d",
   "metadata": {},
   "source": [
    "## The use of encode and decode functions in `crypto.py`"
   ]
  },
  {
   "cell_type": "code",
   "execution_count": 1,
   "id": "699a63a4",
   "metadata": {},
   "outputs": [],
   "source": [
    "from crypto import *"
   ]
  },
  {
   "cell_type": "code",
   "execution_count": 2,
   "id": "24bbff07",
   "metadata": {},
   "outputs": [
    {
     "data": {
      "text/plain": [
       "'ATc[VQRSz!zWQf8EdF9t{x_EY'"
      ]
     },
     "execution_count": 2,
     "metadata": {},
     "output_type": "execute_result"
    }
   ],
   "source": [
    "encode(\"ProgrammingforDataScience\", 'passcode123')"
   ]
  },
  {
   "cell_type": "code",
   "execution_count": 3,
   "id": "596dc669",
   "metadata": {},
   "outputs": [
    {
     "data": {
      "text/plain": [
       "'ProgrammingForDataScience'"
      ]
     },
     "execution_count": 3,
     "metadata": {},
     "output_type": "execute_result"
    }
   ],
   "source": [
    "decode(\"ATc[VQRSz!z7Qf8EdF9t{x_EY\", 'passcode123')"
   ]
  },
  {
   "cell_type": "markdown",
   "id": "9aee1050",
   "metadata": {},
   "source": [
    "#### Test `ch_to_num`"
   ]
  },
  {
   "cell_type": "code",
   "execution_count": 4,
   "id": "e7213960",
   "metadata": {},
   "outputs": [],
   "source": [
    "test_cases_ch_to_num = [(' ',0), # first character in the target list\n",
    "                        ('~',94), # last character in the target list\n",
    "                        ('a',65)] # random character in between"
   ]
  },
  {
   "cell_type": "code",
   "execution_count": 5,
   "id": "c8e0a24c",
   "metadata": {},
   "outputs": [
    {
     "name": "stdout",
     "output_type": "stream",
     "text": [
      "All tests passed!\n"
     ]
    }
   ],
   "source": [
    "for ch,num in test_cases_ch_to_num:\n",
    "    assert ch_to_num(ch) == num, f'Expected {num} from test_cases_ch_to_num({ch})'\n",
    "print('All tests passed!')"
   ]
  },
  {
   "cell_type": "markdown",
   "id": "f3580750",
   "metadata": {},
   "source": [
    "#### Test `num_to_ch`"
   ]
  },
  {
   "cell_type": "code",
   "execution_count": 6,
   "id": "6938334b",
   "metadata": {},
   "outputs": [],
   "source": [
    "test_cases_num_to_ch = [(0,' '), # the smallest integer in the range\n",
    "                        (65,'a'),# random integer in the range\n",
    "                        (94,'~'),# largest integer in the range\n",
    "                        (95,' '),# smallest positive integer out of the range\n",
    "                        (160,'a'),# random positive integer out of the range\n",
    "                        (189,'~'),# largest positive integer in the first round out of the range\n",
    "                        (190,' '),# smallest positive integer in the second round out of the range\n",
    "                        (-1,'~'), # largest negative integer out of the range\n",
    "                        (-47,'P'),# random negative integer out of the range\n",
    "                        (-95,' '),# smallest negative integer in the first round out of the range\n",
    "                        (-96,'~'),# largest negative integer in the second round out of the range\n",
    "                        (-142,'P'),# random negative integer in the second round out of the range\n",
    "                        (-190,' ')]# largest negative integer in the third round out of the range"
   ]
  },
  {
   "cell_type": "code",
   "execution_count": 7,
   "id": "077d795e",
   "metadata": {},
   "outputs": [
    {
     "name": "stdout",
     "output_type": "stream",
     "text": [
      "All tests passed!\n"
     ]
    }
   ],
   "source": [
    "for num,ch in test_cases_num_to_ch:\n",
    "    assert num_to_ch(num) == ch, f'Expected {ch} from test_cases_num_to_ch({num})'\n",
    "print('All tests passed!')"
   ]
  },
  {
   "cell_type": "markdown",
   "id": "bde28add",
   "metadata": {},
   "source": [
    "#### Test `encode`"
   ]
  },
  {
   "cell_type": "code",
   "execution_count": 8,
   "id": "bd4f8ecf",
   "metadata": {},
   "outputs": [],
   "source": [
    "test_cases_encode = [(\"ProgrammingforDataScience\", \"passcode123\",\"ATc[VQRSz!zWQf8EdF9t{x_EY\"), # passcode shorter than message\n",
    "                     (\"ProgrammingforDataScience\", \"1234567890passcode1234567890\",\"a%#{(w%&#~XHcf(QYGdu|y$y|\"), # passcode longer than message\n",
    "                     (\"I take ST101 to enhance my programming skills\", \"789passcode\",\"`8.RMYs7DuuH8.`aYbLQSI|8'jadfSWWG%&#_IsgOYQR+\")] # message and passcode contain char and numbers"
   ]
  },
  {
   "cell_type": "code",
   "execution_count": 9,
   "id": "44f331a7",
   "metadata": {},
   "outputs": [
    {
     "name": "stdout",
     "output_type": "stream",
     "text": [
      "All tests passed!\n"
     ]
    }
   ],
   "source": [
    "for message,passcode,encrypt in test_cases_encode:\n",
    "    assert encode(message,passcode) == encrypt, f'Expected {encrypt} from test_cases_num_to_ch({message,passcode})'\n",
    "print('All tests passed!')"
   ]
  },
  {
   "cell_type": "markdown",
   "id": "0e46c7cf",
   "metadata": {},
   "source": [
    "#### Test `decode`"
   ]
  },
  {
   "cell_type": "code",
   "execution_count": 10,
   "id": "65fd7bcf",
   "metadata": {},
   "outputs": [],
   "source": [
    "test_cases_decode = [(\"ATc[VQRSz!zWQf8EdF9t{x_EY\",\"passcode123\",\"ProgrammingforDataScience\"),# match the three test cases above\n",
    "                     (\"a%#{(w%&#~XHcf(QYGdu|y$y|\",\"1234567890passcode1234567890\",\"ProgrammingforDataScience\"),\n",
    "                     (\"`8.RMYs7DuuH8.`aYbLQSI|8'jadfSWWG%&#_IsgOYQR+\",\"789passcode\",\"I take ST101 to enhance my programming skills\")]"
   ]
  },
  {
   "cell_type": "code",
   "execution_count": 11,
   "id": "be1d4808",
   "metadata": {},
   "outputs": [
    {
     "name": "stdout",
     "output_type": "stream",
     "text": [
      "All tests passed!\n"
     ]
    }
   ],
   "source": [
    "for message,passcode,decrypt in test_cases_encode:\n",
    "    assert encode(message,passcode) == decrypt, f'Expected {decrypt} from test_cases_num_to_ch({message,passcode})'\n",
    "print('All tests passed!')"
   ]
  },
  {
   "cell_type": "markdown",
   "id": "d0b408db",
   "metadata": {},
   "source": [
    "## Success paradox"
   ]
  },
  {
   "cell_type": "markdown",
   "id": "c9b4aebe",
   "metadata": {},
   "source": [
    "Load the data from data/movie.json"
   ]
  },
  {
   "cell_type": "code",
   "execution_count": 12,
   "id": "8f516397",
   "metadata": {},
   "outputs": [],
   "source": [
    "import json\n",
    "import pandas as pd\n",
    "import copy\n",
    "f = open('../data/movie.json')\n",
    "movie = json.load(f)"
   ]
  },
  {
   "cell_type": "markdown",
   "id": "d084d046",
   "metadata": {},
   "source": [
    "Check whether ids are unique for each actor in the dataset"
   ]
  },
  {
   "cell_type": "code",
   "execution_count": 13,
   "id": "b6ab1551",
   "metadata": {},
   "outputs": [
    {
     "name": "stdout",
     "output_type": "stream",
     "text": [
      "has duplicates\n"
     ]
    }
   ],
   "source": [
    "def has_duplicates(seq):\n",
    "    return len(seq) != len(set(seq))\n",
    "\n",
    "for m in movie: \n",
    "    id_list = list(map(lambda a: a['id'], m['cast']))\n",
    "    if has_duplicates(id_list):\n",
    "        print('has duplicates')\n",
    "        break"
   ]
  },
  {
   "cell_type": "markdown",
   "id": "bb362e65",
   "metadata": {},
   "source": [
    "Create an actor `list` to extract all actors participating in at least one movie in the dataset (without repetition)"
   ]
  },
  {
   "cell_type": "code",
   "execution_count": 14,
   "id": "486ab820",
   "metadata": {},
   "outputs": [],
   "source": [
    "actor_list = {}\n",
    "for m in movie:\n",
    "    for actor in m['cast']:\n",
    "        if actor['id'] not in actor_list:\n",
    "            actor_list[actor['id']] = []"
   ]
  },
  {
   "cell_type": "markdown",
   "id": "ec9a434d",
   "metadata": {},
   "source": [
    "Create a `dict` of `list` to store a sequence of co-actors"
   ]
  },
  {
   "cell_type": "code",
   "execution_count": 15,
   "id": "6dfa2fdd",
   "metadata": {
    "scrolled": true
   },
   "outputs": [],
   "source": [
    "co_actor_list = copy.deepcopy(actor_list)\n",
    "for m in movie:\n",
    "    for actor in m['cast']:\n",
    "        for coactor in m['cast']: # iterate all actors appeared in the same movie\n",
    "            if coactor['id'] != actor['id']: # coactor cannot be him/herself\n",
    "                if coactor['id'] not in co_actor_list[actor['id']]:\n",
    "                    co_actor_list[actor['id']].append(coactor['id'])"
   ]
  },
  {
   "cell_type": "markdown",
   "id": "b7c82107",
   "metadata": {},
   "source": [
    "Create a `dict` of `list` of the number and the average revenue of the movies that each actor participated in"
   ]
  },
  {
   "cell_type": "code",
   "execution_count": 16,
   "id": "5b64f2aa",
   "metadata": {},
   "outputs": [],
   "source": [
    "movie_number_and_reveune_list = copy.deepcopy(actor_list)\n",
    "for m in movie:\n",
    "    for actor in m['cast']:\n",
    "        if movie_number_and_reveune_list[actor['id']]: # check whether the list is empty or not\n",
    "            movie_number_and_reveune_list[actor['id']][0] += 1 # number of movies\n",
    "            movie_number_and_reveune_list[actor['id']][1] += m['revenue'] # total revenue of movies\n",
    "        else:\n",
    "            movie_number_and_reveune_list[actor['id']] = [1,m['revenue']]\n",
    "for actor,num_and_revenue in movie_number_and_reveune_list.items():\n",
    "    avg_revenue = num_and_revenue[1]/num_and_revenue[0]\n",
    "    movie_number_and_reveune_list[actor] = [num_and_revenue[0],avg_revenue] # replace total revenue by average revenue"
   ]
  },
  {
   "cell_type": "markdown",
   "id": "fe99c52b",
   "metadata": {},
   "source": [
    "Create a `dict` of `list` of the number and the average revenue of the movies that each actor's coactor participated in"
   ]
  },
  {
   "cell_type": "code",
   "execution_count": 17,
   "id": "2ba207ae",
   "metadata": {},
   "outputs": [],
   "source": [
    "coactors_movie_number_and_reveune_list={}\n",
    "for actor,coactors in co_actor_list.items():\n",
    "    total_movies = 0\n",
    "    total_revenue = 0\n",
    "    for coactor in coactors:\n",
    "        total_movies += movie_number_and_reveune_list[coactor][0]\n",
    "        total_revenue += movie_number_and_reveune_list[coactor][1]\n",
    "    if len(coactors) != 0:\n",
    "        coactors_movie_number_and_reveune_list[actor] = [total_movies/len(coactors),total_revenue/len(coactors)]\n",
    "    else:\n",
    "        coactors_movie_number_and_reveune_list[actor] = [0,0]"
   ]
  },
  {
   "cell_type": "markdown",
   "id": "edc4eed5",
   "metadata": {},
   "source": [
    "Convert `movie_number_and_reveune_list` and `coactors_movie_number_and_reveune_list` into pandas dataframes"
   ]
  },
  {
   "cell_type": "code",
   "execution_count": 18,
   "id": "a5033dec",
   "metadata": {},
   "outputs": [],
   "source": [
    "actor_df = pd.DataFrame.from_dict(movie_number_and_reveune_list)\n",
    "coactor_df = pd.DataFrame.from_dict(coactors_movie_number_and_reveune_list)\n",
    "df_compare = actor_df < coactor_df\n",
    "percentage_with_fewer_movies_than_coactors = df_compare.iloc[0].sum() / len(df_compare.columns)\n",
    "percentage_with_fewer_revenue_than_coactors = df_compare.iloc[1].sum() / len(df_compare.columns)"
   ]
  },
  {
   "cell_type": "code",
   "execution_count": 19,
   "id": "c0cae5cb",
   "metadata": {},
   "outputs": [
    {
     "data": {
      "text/plain": [
       "0.9215761705869422"
      ]
     },
     "execution_count": 19,
     "metadata": {},
     "output_type": "execute_result"
    }
   ],
   "source": [
    "percentage_with_fewer_movies_than_coactors"
   ]
  },
  {
   "cell_type": "code",
   "execution_count": 20,
   "id": "6a461458",
   "metadata": {},
   "outputs": [
    {
     "data": {
      "text/plain": [
       "0.712647468308053"
      ]
     },
     "execution_count": 20,
     "metadata": {},
     "output_type": "execute_result"
    }
   ],
   "source": [
    "percentage_with_fewer_revenue_than_coactors"
   ]
  },
  {
   "cell_type": "markdown",
   "id": "96b5d672",
   "metadata": {},
   "source": [
    "IDs are used to represent each actor for two reasons. First, ids are more unique than names as it is less likely for two people to have the same ids than names. Using ids can check the result more accurately. Second, ids take less space than names since integers take less space than strings. Using ids improve the efficiency of the code.However, I assume that ids are more unique than names in this dataset even if I've checked that ids are not unique for each actors. \n",
    "\n",
    "\"Success paradox\" is observed since for about 92% of the actors, their co-actors are more \"successful\" than them in terms of the number of appearances in movies and for about 71% of the actors, their co-actors are more \"successful\" than them in terms of the average revenue. One assumption made during the analysis is assuming all 0 values truly represents 0 movie or 0 revenue. However, it's highly likely due to the incompleteness of data that there are some missing values in the dataset. The limitation of the analysis is some incomplete data will be included in the final percentage (i.e. those actors with 0 movie or 0 revenue may seem so due to incomplete data but is considered so and will definitely appear to have lower movies and revenue than their coactors. We can consider doing some data cleaning first to eliminate incomplete and inaccurate data and then do the analysis to improve the overall accuracy and reliability."
   ]
  },
  {
   "cell_type": "markdown",
   "id": "dc7f6e68",
   "metadata": {},
   "source": [
    "## Number Guessing Game"
   ]
  },
  {
   "cell_type": "code",
   "execution_count": 21,
   "id": "b1493967",
   "metadata": {},
   "outputs": [],
   "source": [
    "from number_guessing_game import *\n",
    "from player import *\n",
    "import pandas as pd"
   ]
  },
  {
   "cell_type": "code",
   "execution_count": 22,
   "id": "0801c425",
   "metadata": {},
   "outputs": [],
   "source": [
    "def sim_play(player_1, player_2, player_3, player_4,n):\n",
    "    '''\n",
    "    play the number guessing game n times\n",
    "    Parameters:\n",
    "    player_1: Player\n",
    "    player_2: MinPlayer\n",
    "    player_3: MiddlePlayer\n",
    "    player_4: LearningPlayer\n",
    "    n: int > 0, number of games to play\n",
    "    '''\n",
    "    num_guess_game = Num_Guessing_Game(player_1, player_2, player_3, player_4)\n",
    "    for _ in range(n):\n",
    "        num_guess_game.play()"
   ]
  },
  {
   "cell_type": "code",
   "execution_count": 23,
   "id": "5b16447c",
   "metadata": {},
   "outputs": [],
   "source": [
    "player_1 = Player()\n",
    "player_2 = MinPlayer()\n",
    "player_3 = MiddlePlayer()\n",
    "player_4 = LearningPlayer()\n",
    "sim_play(player_1, player_2, player_3, player_4, 10000) # play the game 10000 times"
   ]
  },
  {
   "cell_type": "markdown",
   "id": "e0f083a5",
   "metadata": {},
   "source": [
    "Create a dataframe of 4 players' num guesses"
   ]
  },
  {
   "cell_type": "code",
   "execution_count": 24,
   "id": "789321db",
   "metadata": {},
   "outputs": [],
   "source": [
    "df = pd.DataFrame({'random player': player_1.record(1000),'min player': player_2.record(1000),'middle player': player_3.record(1000),'learning player': player_4.record(1000)})"
   ]
  },
  {
   "cell_type": "markdown",
   "id": "26dac620",
   "metadata": {},
   "source": [
    "Calculate the summary stats of the 4 players"
   ]
  },
  {
   "cell_type": "markdown",
   "id": "0e3abe6f",
   "metadata": {},
   "source": [
    "`random player`"
   ]
  },
  {
   "cell_type": "code",
   "execution_count": 25,
   "id": "83282e9b",
   "metadata": {},
   "outputs": [
    {
     "data": {
      "text/plain": [
       "7.391"
      ]
     },
     "execution_count": 25,
     "metadata": {},
     "output_type": "execute_result"
    }
   ],
   "source": [
    "df['random player'].mean()"
   ]
  },
  {
   "cell_type": "code",
   "execution_count": 26,
   "id": "99742679",
   "metadata": {},
   "outputs": [
    {
     "data": {
      "text/plain": [
       "7.0"
      ]
     },
     "execution_count": 26,
     "metadata": {},
     "output_type": "execute_result"
    }
   ],
   "source": [
    "df['random player'].median()"
   ]
  },
  {
   "cell_type": "code",
   "execution_count": 27,
   "id": "5d15eac6",
   "metadata": {},
   "outputs": [
    {
     "data": {
      "text/plain": [
       "16"
      ]
     },
     "execution_count": 27,
     "metadata": {},
     "output_type": "execute_result"
    }
   ],
   "source": [
    "df['random player'].max()"
   ]
  },
  {
   "cell_type": "code",
   "execution_count": 28,
   "id": "195b754f",
   "metadata": {},
   "outputs": [
    {
     "data": {
      "text/plain": [
       "1"
      ]
     },
     "execution_count": 28,
     "metadata": {},
     "output_type": "execute_result"
    }
   ],
   "source": [
    "df['random player'].min()"
   ]
  },
  {
   "cell_type": "markdown",
   "id": "fc00d1fc",
   "metadata": {},
   "source": [
    "`min player`"
   ]
  },
  {
   "cell_type": "code",
   "execution_count": 29,
   "id": "4b689fb2",
   "metadata": {},
   "outputs": [
    {
     "data": {
      "text/plain": [
       "50.109"
      ]
     },
     "execution_count": 29,
     "metadata": {},
     "output_type": "execute_result"
    }
   ],
   "source": [
    "df['min player'].mean()"
   ]
  },
  {
   "cell_type": "code",
   "execution_count": 30,
   "id": "99808782",
   "metadata": {},
   "outputs": [
    {
     "data": {
      "text/plain": [
       "48.0"
      ]
     },
     "execution_count": 30,
     "metadata": {},
     "output_type": "execute_result"
    }
   ],
   "source": [
    "df['min player'].median()"
   ]
  },
  {
   "cell_type": "code",
   "execution_count": 31,
   "id": "dd679832",
   "metadata": {},
   "outputs": [
    {
     "data": {
      "text/plain": [
       "100"
      ]
     },
     "execution_count": 31,
     "metadata": {},
     "output_type": "execute_result"
    }
   ],
   "source": [
    "df['min player'].max()"
   ]
  },
  {
   "cell_type": "code",
   "execution_count": 32,
   "id": "0f70ede4",
   "metadata": {},
   "outputs": [
    {
     "data": {
      "text/plain": [
       "1"
      ]
     },
     "execution_count": 32,
     "metadata": {},
     "output_type": "execute_result"
    }
   ],
   "source": [
    "df['min player'].min()"
   ]
  },
  {
   "cell_type": "markdown",
   "id": "7f77dd60",
   "metadata": {},
   "source": [
    "`middle player`"
   ]
  },
  {
   "cell_type": "code",
   "execution_count": 33,
   "id": "276f6df2",
   "metadata": {},
   "outputs": [
    {
     "data": {
      "text/plain": [
       "5.804"
      ]
     },
     "execution_count": 33,
     "metadata": {},
     "output_type": "execute_result"
    }
   ],
   "source": [
    "df['middle player'].mean()"
   ]
  },
  {
   "cell_type": "code",
   "execution_count": 34,
   "id": "f045d4a1",
   "metadata": {},
   "outputs": [
    {
     "data": {
      "text/plain": [
       "6.0"
      ]
     },
     "execution_count": 34,
     "metadata": {},
     "output_type": "execute_result"
    }
   ],
   "source": [
    "df['middle player'].median()"
   ]
  },
  {
   "cell_type": "code",
   "execution_count": 35,
   "id": "9286b033",
   "metadata": {},
   "outputs": [
    {
     "data": {
      "text/plain": [
       "7"
      ]
     },
     "execution_count": 35,
     "metadata": {},
     "output_type": "execute_result"
    }
   ],
   "source": [
    "df['middle player'].max()"
   ]
  },
  {
   "cell_type": "code",
   "execution_count": 36,
   "id": "18c4b54f",
   "metadata": {},
   "outputs": [
    {
     "data": {
      "text/plain": [
       "1"
      ]
     },
     "execution_count": 36,
     "metadata": {},
     "output_type": "execute_result"
    }
   ],
   "source": [
    "df['middle player'].min()"
   ]
  },
  {
   "cell_type": "markdown",
   "id": "c244d0d2",
   "metadata": {},
   "source": [
    "`learning player`"
   ]
  },
  {
   "cell_type": "code",
   "execution_count": 37,
   "id": "9d60e832",
   "metadata": {},
   "outputs": [
    {
     "data": {
      "text/plain": [
       "5.915"
      ]
     },
     "execution_count": 37,
     "metadata": {},
     "output_type": "execute_result"
    }
   ],
   "source": [
    "df['learning player'].mean()"
   ]
  },
  {
   "cell_type": "code",
   "execution_count": 38,
   "id": "59e7b299",
   "metadata": {},
   "outputs": [
    {
     "data": {
      "text/plain": [
       "6.0"
      ]
     },
     "execution_count": 38,
     "metadata": {},
     "output_type": "execute_result"
    }
   ],
   "source": [
    "df['learning player'].median()"
   ]
  },
  {
   "cell_type": "code",
   "execution_count": 39,
   "id": "73c91b19",
   "metadata": {},
   "outputs": [
    {
     "data": {
      "text/plain": [
       "9"
      ]
     },
     "execution_count": 39,
     "metadata": {},
     "output_type": "execute_result"
    }
   ],
   "source": [
    "df['learning player'].max()"
   ]
  },
  {
   "cell_type": "code",
   "execution_count": 40,
   "id": "96a53d8f",
   "metadata": {},
   "outputs": [
    {
     "data": {
      "text/plain": [
       "1"
      ]
     },
     "execution_count": 40,
     "metadata": {},
     "output_type": "execute_result"
    }
   ],
   "source": [
    "df['learning player'].min()"
   ]
  },
  {
   "cell_type": "code",
   "execution_count": 41,
   "id": "850cd2b8",
   "metadata": {},
   "outputs": [],
   "source": [
    "import matplotlib.pyplot as plt"
   ]
  },
  {
   "cell_type": "code",
   "execution_count": 42,
   "id": "b353d70b",
   "metadata": {},
   "outputs": [
    {
     "data": {
      "text/plain": [
       "Text(0.5, 1.0, 'Number of guesses made for players with different strategies')"
      ]
     },
     "execution_count": 42,
     "metadata": {},
     "output_type": "execute_result"
    },
    {
     "data": {
      "image/png": "[encoded data removed]",
      "text/plain": [
       "<Figure size 640x480 with 1 Axes>"
      ]
     },
     "metadata": {},
     "output_type": "display_data"
    }
   ],
   "source": [
    "plt.boxplot(df,labels=['Random Player','Min Player','Middle Player','Learning Player'])\n",
    "plt.title('Number of guesses made for players with different strategies')"
   ]
  },
  {
   "cell_type": "markdown",
   "id": "52890653",
   "metadata": {},
   "source": [
    "Min Player is the player with the worst performace given both its mean and median shown in the graph is far higher than the other 3 players. Middle Player is the player with the best performace since it has the smallest dispersion and lowest max number to make the correct guess. \n",
    "Random Player's performace is the middle of the min and middle player as its average num is higher with some outliers."
   ]
  },
  {
   "cell_type": "markdown",
   "id": "c59a3ede",
   "metadata": {},
   "source": [
    "I think learning player works because it has a performance between random player and middle player, suggesting that at first without experience, learning player may use more guesses to get the correct number, but gradually with experience, learnning player has better results which approaching the performance of the middle player, given the fact that the way middle player plays is the best strategy in the number guesses game (binary search). Learning player may improve its performance by using a more accurate and effective probability to perform learning strategies because the probability given may not be the optimal but a simplified one, so it may not help the player to learn well. It can also be seen from the record that there is no super clear learning trend shown in the record guesses of the learning player."
   ]
  }
 ],
 "metadata": {
  "kernelspec": {
   "display_name": "Python 3 (ipykernel)",
   "language": "python",
   "name": "python3"
  },
  "language_info": {
   "codemirror_mode": {
    "name": "ipython",
    "version": 3
   },
   "file_extension": ".py",
   "mimetype": "text/x-python",
   "name": "python",
   "nbconvert_exporter": "python",
   "pygments_lexer": "ipython3",
   "version": "3.9.13"
  }
 },
 "nbformat": 4,
 "nbformat_minor": 5
}
